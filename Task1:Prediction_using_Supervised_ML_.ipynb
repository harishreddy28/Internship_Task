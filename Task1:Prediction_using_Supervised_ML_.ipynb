{
  "nbformat": 4,
  "nbformat_minor": 0,
  "metadata": {
    "colab": {
      "name": "Prediction using Supervised ML .ipynb",
      "provenance": [],
      "collapsed_sections": [],
      "authorship_tag": "ABX9TyMq8XP1ZHggmj/L7TUE6mQm",
      "include_colab_link": true
    },
    "kernelspec": {
      "name": "python3",
      "display_name": "Python 3"
    }
  },
  "cells": [
    {
      "cell_type": "markdown",
      "metadata": {
        "id": "view-in-github",
        "colab_type": "text"
      },
      "source": [
        "<a href=\"https://colab.research.google.com/github/harishreddy28/Internship_Task/blob/main/Prediction_using_Supervised_ML_.ipynb\" target=\"_parent\"><img src=\"https://colab.research.google.com/assets/colab-badge.svg\" alt=\"Open In Colab\"/></a>"
      ]
    },
    {
      "cell_type": "markdown",
      "metadata": {
        "id": "z82J8zo8B1ie"
      },
      "source": [
        "** Harish Reddy**\n",
        "\n",
        "Data Science& Business Analytics at The Spark foundation"
      ]
    },
    {
      "cell_type": "markdown",
      "metadata": {
        "id": "amPM3BbJ_I9E"
      },
      "source": [
        "GRIP : Task 1\n",
        "Problem Statement: Predicting percentage score of a student based on no. of hours of study\n",
        "\n",
        "Let’s start with simple linear regression steps\n",
        "\n",
        "1.Import the packages and classes you need\n",
        "\n",
        "2.Read dataset\n",
        "\n",
        "3.Understand the dataset\n",
        "\n",
        "4.Create a regression model and fit it with existing data.\n",
        "\n",
        "5.Check the results of model fitting to know whether the model is satisfactory.\n",
        "\n",
        "6.Apply the model for predictions.\n",
        "\n"
      ]
    },
    {
      "cell_type": "markdown",
      "metadata": {
        "id": "1vun9vaA-a0N"
      },
      "source": [
        "**Step 1: Import packages and classes**\n",
        "\n",
        "The first step is to import the package pandas,numpy,matplotlib and the class LinearRegression from sklearn.linear_model:\n"
      ]
    },
    {
      "cell_type": "code",
      "metadata": {
        "id": "rmsIzi3T_BYe"
      },
      "source": [
        "import pandas as pd\n",
        "import numpy as np\n",
        "import matplotlib.pyplot as plt\n",
        "import seaborn as sns\n",
        "from sklearn.linear_model import LinearRegression\n"
      ],
      "execution_count": 117,
      "outputs": []
    },
    {
      "cell_type": "markdown",
      "metadata": {
        "id": "RMJUZENQXKUj"
      },
      "source": [
        "**Step 2:Read dataset**\n"
      ]
    },
    {
      "cell_type": "code",
      "metadata": {
        "id": "Z3-v3Dyp_Vhu"
      },
      "source": [
        "# Reading data from remote link\n",
        "url = \"http://bit.ly/w-data\"\n",
        "data = pd.read_csv(url)"
      ],
      "execution_count": 118,
      "outputs": []
    },
    {
      "cell_type": "markdown",
      "metadata": {
        "id": "zvmDXrBk_8KS"
      },
      "source": [
        "**Step 3: Understand the dataset**\n",
        "\n",
        "Take a Quick Look at the Data Structure"
      ]
    },
    {
      "cell_type": "code",
      "metadata": {
        "id": "nS4shUUAATR1",
        "outputId": "8195ca91-5ff7-45cb-8910-1daf497af1e3",
        "colab": {
          "base_uri": "https://localhost:8080/",
          "height": 195
        }
      },
      "source": [
        "#Let’s take a look at the top five rows using the DataFrame’s head() method\n",
        "data.head()"
      ],
      "execution_count": 119,
      "outputs": [
        {
          "output_type": "execute_result",
          "data": {
            "text/html": [
              "<div>\n",
              "<style scoped>\n",
              "    .dataframe tbody tr th:only-of-type {\n",
              "        vertical-align: middle;\n",
              "    }\n",
              "\n",
              "    .dataframe tbody tr th {\n",
              "        vertical-align: top;\n",
              "    }\n",
              "\n",
              "    .dataframe thead th {\n",
              "        text-align: right;\n",
              "    }\n",
              "</style>\n",
              "<table border=\"1\" class=\"dataframe\">\n",
              "  <thead>\n",
              "    <tr style=\"text-align: right;\">\n",
              "      <th></th>\n",
              "      <th>Hours</th>\n",
              "      <th>Scores</th>\n",
              "    </tr>\n",
              "  </thead>\n",
              "  <tbody>\n",
              "    <tr>\n",
              "      <th>0</th>\n",
              "      <td>2.5</td>\n",
              "      <td>21</td>\n",
              "    </tr>\n",
              "    <tr>\n",
              "      <th>1</th>\n",
              "      <td>5.1</td>\n",
              "      <td>47</td>\n",
              "    </tr>\n",
              "    <tr>\n",
              "      <th>2</th>\n",
              "      <td>3.2</td>\n",
              "      <td>27</td>\n",
              "    </tr>\n",
              "    <tr>\n",
              "      <th>3</th>\n",
              "      <td>8.5</td>\n",
              "      <td>75</td>\n",
              "    </tr>\n",
              "    <tr>\n",
              "      <th>4</th>\n",
              "      <td>3.5</td>\n",
              "      <td>30</td>\n",
              "    </tr>\n",
              "  </tbody>\n",
              "</table>\n",
              "</div>"
            ],
            "text/plain": [
              "   Hours  Scores\n",
              "0    2.5      21\n",
              "1    5.1      47\n",
              "2    3.2      27\n",
              "3    8.5      75\n",
              "4    3.5      30"
            ]
          },
          "metadata": {
            "tags": []
          },
          "execution_count": 119
        }
      ]
    },
    {
      "cell_type": "code",
      "metadata": {
        "id": "FJaLoKv0GsAb",
        "outputId": "da4fc3a2-247f-471f-daf1-2eacb58c0b0f",
        "colab": {
          "base_uri": "https://localhost:8080/",
          "height": 67
        }
      },
      "source": [
        "# check if there is any missing value\n",
        "data.isnull().sum()"
      ],
      "execution_count": 120,
      "outputs": [
        {
          "output_type": "execute_result",
          "data": {
            "text/plain": [
              "Hours     0\n",
              "Scores    0\n",
              "dtype: int64"
            ]
          },
          "metadata": {
            "tags": []
          },
          "execution_count": 120
        }
      ]
    },
    {
      "cell_type": "code",
      "metadata": {
        "id": "dde0kLHgsHvZ",
        "outputId": "4f7fb51f-e6a9-42e6-c6f3-892c6b882d05",
        "colab": {
          "base_uri": "https://localhost:8080/",
          "height": 284
        }
      },
      "source": [
        "# statistical information of data\n",
        "data.describe()"
      ],
      "execution_count": 121,
      "outputs": [
        {
          "output_type": "execute_result",
          "data": {
            "text/html": [
              "<div>\n",
              "<style scoped>\n",
              "    .dataframe tbody tr th:only-of-type {\n",
              "        vertical-align: middle;\n",
              "    }\n",
              "\n",
              "    .dataframe tbody tr th {\n",
              "        vertical-align: top;\n",
              "    }\n",
              "\n",
              "    .dataframe thead th {\n",
              "        text-align: right;\n",
              "    }\n",
              "</style>\n",
              "<table border=\"1\" class=\"dataframe\">\n",
              "  <thead>\n",
              "    <tr style=\"text-align: right;\">\n",
              "      <th></th>\n",
              "      <th>Hours</th>\n",
              "      <th>Scores</th>\n",
              "    </tr>\n",
              "  </thead>\n",
              "  <tbody>\n",
              "    <tr>\n",
              "      <th>count</th>\n",
              "      <td>25.000000</td>\n",
              "      <td>25.000000</td>\n",
              "    </tr>\n",
              "    <tr>\n",
              "      <th>mean</th>\n",
              "      <td>5.012000</td>\n",
              "      <td>51.480000</td>\n",
              "    </tr>\n",
              "    <tr>\n",
              "      <th>std</th>\n",
              "      <td>2.525094</td>\n",
              "      <td>25.286887</td>\n",
              "    </tr>\n",
              "    <tr>\n",
              "      <th>min</th>\n",
              "      <td>1.100000</td>\n",
              "      <td>17.000000</td>\n",
              "    </tr>\n",
              "    <tr>\n",
              "      <th>25%</th>\n",
              "      <td>2.700000</td>\n",
              "      <td>30.000000</td>\n",
              "    </tr>\n",
              "    <tr>\n",
              "      <th>50%</th>\n",
              "      <td>4.800000</td>\n",
              "      <td>47.000000</td>\n",
              "    </tr>\n",
              "    <tr>\n",
              "      <th>75%</th>\n",
              "      <td>7.400000</td>\n",
              "      <td>75.000000</td>\n",
              "    </tr>\n",
              "    <tr>\n",
              "      <th>max</th>\n",
              "      <td>9.200000</td>\n",
              "      <td>95.000000</td>\n",
              "    </tr>\n",
              "  </tbody>\n",
              "</table>\n",
              "</div>"
            ],
            "text/plain": [
              "           Hours     Scores\n",
              "count  25.000000  25.000000\n",
              "mean    5.012000  51.480000\n",
              "std     2.525094  25.286887\n",
              "min     1.100000  17.000000\n",
              "25%     2.700000  30.000000\n",
              "50%     4.800000  47.000000\n",
              "75%     7.400000  75.000000\n",
              "max     9.200000  95.000000"
            ]
          },
          "metadata": {
            "tags": []
          },
          "execution_count": 121
        }
      ]
    },
    {
      "cell_type": "markdown",
      "metadata": {
        "id": "heVc61uAD_KS"
      },
      "source": [
        "Creating feature and target arrays"
      ]
    },
    {
      "cell_type": "code",
      "metadata": {
        "id": "X1t4_Bghux0d"
      },
      "source": [
        "X = data.drop(\"Scores\",axis=1).values #Feature/independent variable\n",
        "y = data['Scores'].values #target/dependent variables"
      ],
      "execution_count": 122,
      "outputs": []
    },
    {
      "cell_type": "markdown",
      "metadata": {
        "id": "qGTaaYVNExhx"
      },
      "source": [
        "Plotting Hours(X) value vs. Score(y)"
      ]
    },
    {
      "cell_type": "code",
      "metadata": {
        "id": "2Jj67_HHE5Er",
        "outputId": "296f6b72-9e92-4a0f-cb0b-9e81ea675e83",
        "colab": {
          "base_uri": "https://localhost:8080/",
          "height": 295
        }
      },
      "source": [
        "sns.scatterplot(x = data.Hours,y = data.Scores)\n",
        "plt.xlabel('Hours Studied')\n",
        "plt.ylabel('Scores')\n",
        "plt.title('Relation Between Hours and Scores')\n",
        "plt.show()"
      ],
      "execution_count": 123,
      "outputs": [
        {
          "output_type": "display_data",
          "data": {
            "image/png": "[encoded data removed]",
            "text/plain": [
              "<Figure size 432x288 with 1 Axes>"
            ]
          },
          "metadata": {
            "tags": [],
            "needs_background": "light"
          }
        }
      ]
    },
    {
      "cell_type": "markdown",
      "metadata": {
        "id": "CXwj4xj98tlc"
      },
      "source": [
        "From above graph we can see that there is a positive linear relationship between the Hours studied and the score achieved. since it's have dependent variable(Y) and one independet variable(X) we can direactly apply linear regression\n"
      ]
    },
    {
      "cell_type": "markdown",
      "metadata": {
        "id": "XZkR8BOF9h_d"
      },
      "source": [
        "**4.Create a regression model and fit it with existing data.**\n",
        "\n",
        "**Fitting a regression model**"
      ]
    },
    {
      "cell_type": "code",
      "metadata": {
        "id": "4GC3KDsG8zmC"
      },
      "source": [
        "from sklearn.linear_model import LinearRegression\n",
        "reg = LinearRegression()\n",
        "reg.fit(X,y)\n",
        "prediction_space = np.linspace(min(X),max(X)).reshape(-1, 1)"
      ],
      "execution_count": 124,
      "outputs": []
    },
    {
      "cell_type": "markdown",
      "metadata": {
        "id": "7aKrISDOYkNM"
      },
      "source": [
        "Equation of linear regression\n",
        "\n",
        "𝑦=𝑐+𝑚x\n",
        "\n",
        "𝑦 is the Score\n",
        "\n",
        "𝑐 is the intercept\n",
        "\n",
        "𝑚 is the coefficient for the feature\n",
        "\n",
        "In our case: 𝑦=𝑐+𝑚×Hours\n",
        "\n",
        "The 𝑚 values are called the model coefficients or model parameters."
      ]
    },
    {
      "cell_type": "code",
      "metadata": {
        "id": "MfA-cs2E-wDH",
        "outputId": "c3d36bee-b800-47fc-d625-cd95f7f991e8",
        "colab": {
          "base_uri": "https://localhost:8080/",
          "height": 265
        }
      },
      "source": [
        "plt.scatter(X, y, color='blue')\n",
        "plt.plot(prediction_space, reg.predict(prediction_space),\n",
        "color='black', linewidth=3)\n",
        "plt.show()"
      ],
      "execution_count": 125,
      "outputs": [
        {
          "output_type": "display_data",
          "data": {
            "image/png": "[encoded data removed]",
            "text/plain": [
              "<Figure size 432x288 with 1 Axes>"
            ]
          },
          "metadata": {
            "tags": [],
            "needs_background": "light"
          }
        }
      ]
    },
    {
      "cell_type": "markdown",
      "metadata": {
        "id": "3tXWKoUE_gaq"
      },
      "source": [
        "Linear regression on all features"
      ]
    },
    {
      "cell_type": "code",
      "metadata": {
        "id": "e0PGQy1n-zbV",
        "outputId": "8ab905f4-013e-4cd9-a7a0-d43e85cffa11",
        "colab": {
          "base_uri": "https://localhost:8080/",
          "height": 50
        }
      },
      "source": [
        "from sklearn.model_selection import train_test_split\n",
        "from sklearn.linear_model import LinearRegression\n",
        "X_train, X_test, y_train, y_test = train_test_split(X, y, random_state=0)\n",
        "lr = LinearRegression().fit(X_train, y_train)\n",
        "print(\"Training set score: {:.2f}\".format(lr.score(X_train, y_train)))\n",
        "print(\"Test set score: {:.2f}\".format(lr.score(X_test, y_test)))"
      ],
      "execution_count": 126,
      "outputs": [
        {
          "output_type": "stream",
          "text": [
            "Training set score: 0.95\n",
            "Test set score: 0.94\n"
          ],
          "name": "stdout"
        }
      ]
    },
    {
      "cell_type": "code",
      "metadata": {
        "id": "BCDU3AVEcY2U",
        "outputId": "5ac0209e-811e-4c55-9cf2-fa2adbbaa7ad",
        "colab": {
          "base_uri": "https://localhost:8080/",
          "height": 50
        }
      },
      "source": [
        "# to see the parameters of train dataset\n",
        "\n",
        "print(\"Coeff:     \",lr.coef_)     # coeff. of X(train) variable\n",
        "print(\"Intercept: \",lr.intercept_)  # constant (c)"
      ],
      "execution_count": 127,
      "outputs": [
        {
          "output_type": "stream",
          "text": [
            "Coeff:      [9.94167834]\n",
            "Intercept:  1.9322042531516601\n"
          ],
          "name": "stdout"
        }
      ]
    },
    {
      "cell_type": "code",
      "metadata": {
        "id": "I_4SHOc7b6xD",
        "outputId": "d4b7313c-f691-474a-cf9c-8a34de96617e",
        "colab": {
          "base_uri": "https://localhost:8080/",
          "height": 265
        }
      },
      "source": [
        "plt.scatter(X_train, y_train)\n",
        "\n",
        "# r (red) color of predicted line\n",
        "\n",
        "plt.plot(X_train, 1.9322+9.94167834*X_train, 'r')\n",
        "plt.show()\n"
      ],
      "execution_count": 128,
      "outputs": [
        {
          "output_type": "display_data",
          "data": {
            "image/png": "[encoded data removed]",
            "text/plain": [
              "<Figure size 432x288 with 1 Axes>"
            ]
          },
          "metadata": {
            "tags": [],
            "needs_background": "light"
          }
        }
      ]
    },
    {
      "cell_type": "markdown",
      "metadata": {
        "id": "c2V720ckd895"
      },
      "source": [
        "**6.Apply the model for predictions.**\n",
        "\n",
        "Q:- What will be predicted score if a student studies for 9.25 hrs/ day?"
      ]
    },
    {
      "cell_type": "code",
      "metadata": {
        "id": "A7LZDmuLegkK",
        "outputId": "94ef3004-57bb-40e1-b000-9737080d64ee",
        "colab": {
          "base_uri": "https://localhost:8080/",
          "height": 34
        }
      },
      "source": [
        "Hours = float(input(\"Enter Study Hours: \"))"
      ],
      "execution_count": 129,
      "outputs": [
        {
          "output_type": "stream",
          "text": [
            "Enter Study Hours: 9.25\n"
          ],
          "name": "stdout"
        }
      ]
    },
    {
      "cell_type": "code",
      "metadata": {
        "id": "zOg9dPqzd8R9",
        "outputId": "71ad20cb-4224-43d8-ec39-d0832968f8bb",
        "colab": {
          "base_uri": "https://localhost:8080/",
          "height": 34
        }
      },
      "source": [
        "Hours = [[Hours]]\n",
        "lr.predict(Hours)"
      ],
      "execution_count": 130,
      "outputs": [
        {
          "output_type": "execute_result",
          "data": {
            "text/plain": [
              "array([93.89272889])"
            ]
          },
          "metadata": {
            "tags": []
          },
          "execution_count": 130
        }
      ]
    },
    {
      "cell_type": "markdown",
      "metadata": {
        "id": "7UIGbCS-gmAN"
      },
      "source": [
        "Solution:- predicted score if a student studies for 9.25 hrs/ day score is 93.89%\n",
        "\n"
      ]
    },
    {
      "cell_type": "code",
      "metadata": {
        "id": "R9KjKGHSesDO"
      },
      "source": [
        ""
      ],
      "execution_count": 130,
      "outputs": []
    }
  ]
}
